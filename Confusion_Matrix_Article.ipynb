{
 "cells": [
  {
   "cell_type": "markdown",
   "id": "f3fe3d62",
   "metadata": {},
   "source": [
    "# Confusion Matrix\n",
    "https://zhuanlan.zhihu.com/p/46204175"
   ]
  },
  {
   "cell_type": "code",
   "execution_count": 1,
   "id": "4c326f31",
   "metadata": {
    "scrolled": false
   },
   "outputs": [
    {
     "name": "stderr",
     "output_type": "stream",
     "text": [
      "Using TensorFlow backend.\n"
     ]
    }
   ],
   "source": [
    "import keras \n",
    "import os \n",
    "from keras import models, layers\n",
    "from keras.applications.resnet50 import preprocess_input \n",
    "from keras.models import load_model \n",
    "import joblib \n",
    "import cv2\n",
    "import numpy as np \n",
    "from matplotlib import pyplot as plt \n",
    "from sklearn.model_selection import train_test_split\n",
    "import pandas as pd \n",
    "%matplotlib inline "
   ]
  },
  {
   "cell_type": "markdown",
   "id": "53363045",
   "metadata": {},
   "source": [
    "# Model Definition"
   ]
  },
  {
   "cell_type": "code",
   "execution_count": 10,
   "id": "f4280d86",
   "metadata": {},
   "outputs": [],
   "source": [
    "class ResNet_SVM:\n",
    "    '''Implementation of ResNet-SVM. `train_svm.py` should be run before this code.'''\n",
    "    def __init__(self, backbone, svm_path = 'models/svm/2021-10-25_V100_0.8909808685089584.svm'):\n",
    "        self.backbone = backbone\n",
    "        self.svm = joblib.load(svm_path)\n",
    "    \n",
    "    def predict(self, batch, preprocess = True):\n",
    "        '''The data type of input should be ndarray. If it has 3 dimensions, it will be expanded to 4 dimensions.'''\n",
    "        if preprocess:\n",
    "            if len(batch.shape)==4:\n",
    "                batch = [i for i in batch]\n",
    "            elif len(batch.shape)==3:\n",
    "                batch = [batch]\n",
    "            batch_new = [] \n",
    "            for img in batch:\n",
    "                batch_new.append(preprocess_input(img))\n",
    "            batch = np.array(batch_new)\n",
    "            \n",
    "        if len(batch.shape)==3:\n",
    "            batch = np.expand_dims(batch,axis = 0)\n",
    "        assert len(batch.shape)==4, \"The shape of input should be converted to (N,H,W,C) availably!\"\n",
    "        \n",
    "        batch = self.backbone.predict(batch)\n",
    "        batch = self.svm.predict(batch)\n",
    "        return batch \n",
    "            \n",
    "    def __call__(self, batch, preprocess=True):\n",
    "        return self.predict(batch, preprocess = preprocess)\n",
    "\n",
    "def get_model(name='resnet'):\n",
    "    batch_size = 32 # Tesla 上占用9013MB\n",
    "    best_model_root = 'models/models_'+str(batch_size)\n",
    "\n",
    "    model = load_model(os.path.join(best_model_root, 'Best_Model.h5'))\n",
    "    if name=='resnet-svm':\n",
    "        for layer in model.layers:\n",
    "            if isinstance(layer, layers.GlobalAveragePooling2D):\n",
    "                gap_layer = layer\n",
    "        model = models.Model(model.inputs, gap_layer.output)\n",
    "        model = ResNet_SVM(model)\n",
    "    return model"
   ]
  },
  {
   "cell_type": "markdown",
   "id": "4530d310",
   "metadata": {},
   "source": [
    "# Data Preparing"
   ]
  },
  {
   "cell_type": "code",
   "execution_count": 3,
   "id": "e750b0b2",
   "metadata": {},
   "outputs": [],
   "source": [
    "train_path = r'flowers_google'\n",
    "labels_path = \"flowers_label.csv\"\n",
    "ids_path = \"flowers_idx.csv\"\n",
    "\n",
    "def PrepareAnnotation(ids_path, labels_path, train_path):\n",
    "    ids = pd.read_csv(ids_path)\n",
    "    labels = pd.read_csv(labels_path)\n",
    "\n",
    "    annotation_dict = {}\n",
    "\n",
    "    for i in range(len(ids['id'])):\n",
    "        image_id = ids['id'][i]\n",
    "        image_lable = ids['flower_cls'][i]\n",
    "        annotation_dict[image_id] = image_lable\n",
    "\n",
    "    label_dict = {}\n",
    "    num_classes = 0\n",
    "\n",
    "    for i in range(len(labels['flower_class'])):\n",
    "        label_dict[labels['flower_class'][i]] = labels['label'][i]\n",
    "        num_classes += 1\n",
    "\n",
    "    for key, value in annotation_dict.items():\n",
    "        annotation_dict[key] = label_dict[value]\n",
    "\n",
    "    image_pathes = []\n",
    "    targets = []\n",
    "\n",
    "    for key, value in annotation_dict.items():\n",
    "        image_name = str(key) + \".jpeg\"\n",
    "        image_path = os.path.join(train_path, image_name)\n",
    "        image_pathes.append(image_path)\n",
    "        targets.append(value)\n",
    "\n",
    "    return image_pathes, targets, num_classes\n",
    "\n",
    "image_pathes, targets, num_classes = PrepareAnnotation(ids_path, labels_path, train_path)\n",
    "val_ratio = 0.2\n",
    "x_train, x_val, y_train, y_val = train_test_split(image_pathes, targets, test_size=val_ratio, random_state=42, shuffle = True, stratify = targets)"
   ]
  },
  {
   "cell_type": "markdown",
   "id": "bb7cb991",
   "metadata": {},
   "source": [
    "# Testing Function"
   ]
  },
  {
   "cell_type": "code",
   "execution_count": 12,
   "id": "01070673",
   "metadata": {},
   "outputs": [],
   "source": [
    "def calculate_confusion(model):\n",
    "    '''Model must have predict function.'''\n",
    "    x_test = np.array(x_val)\n",
    "    y_test = np.array(y_val).ravel()\n",
    "    class_nums = len(set(y_val))\n",
    "    conf_mat = np.zeros((class_nums, class_nums))\n",
    "    for label in set(y_val):\n",
    "        x_cate = x_test[y_test==label]\n",
    "        y_cate = y_test[y_test==label]\n",
    "        batch = [] \n",
    "        for img_name in x_cate:\n",
    "            img = cv2.imread(img_name)[...,:3]\n",
    "            img = img[::-1]\n",
    "            batch.append(img)\n",
    "        batch = np.array(batch)\n",
    "        res = model.predict(batch)\n",
    "        if not isinstance(model, ResNet_SVM):\n",
    "            res = np.argmax(res, axis = 1)\n",
    "        for j in set(y_val):\n",
    "            conf_mat[label, j] = (res==j).sum()/x_cate.size\n",
    "    return conf_mat"
   ]
  },
  {
   "cell_type": "markdown",
   "id": "d96d06e7",
   "metadata": {},
   "source": [
    "# Confusion Matrix of ResNet-50"
   ]
  },
  {
   "cell_type": "code",
   "execution_count": 6,
   "id": "36abd1bd",
   "metadata": {
    "scrolled": true
   },
   "outputs": [],
   "source": [
    "model = get_model()\n",
    "conf_mat_resnet = calculate_confusion(model)"
   ]
  },
  {
   "cell_type": "code",
   "execution_count": 7,
   "id": "54c09426",
   "metadata": {},
   "outputs": [
    {
     "data": {
      "image/png": "[encoded data removed]",
      "text/plain": [
       "<Figure size 1080x1080 with 1 Axes>"
      ]
     },
     "metadata": {
      "needs_background": "light"
     },
     "output_type": "display_data"
    }
   ],
   "source": [
    "plt.figure(figsize=(15,15))\n",
    "plt.imshow(conf_mat_resnet)\n",
    "plt.show()"
   ]
  },
  {
   "cell_type": "code",
   "execution_count": 9,
   "id": "1eea7724",
   "metadata": {},
   "outputs": [],
   "source": [
    "np.save('data_for_svm/confusion_matrix_resnet',conf_mat_resnet)"
   ]
  },
  {
   "cell_type": "markdown",
   "id": "b9a2335f",
   "metadata": {},
   "source": [
    "# Confusion Matrix of ResNet-SVM"
   ]
  },
  {
   "cell_type": "code",
   "execution_count": 13,
   "id": "8e42ac01",
   "metadata": {},
   "outputs": [],
   "source": [
    "model = get_model(name = 'resnet-svm')\n",
    "conf_mat_resnet_svm = calculate_confusion(model)"
   ]
  },
  {
   "cell_type": "code",
   "execution_count": 14,
   "id": "9104d13a",
   "metadata": {},
   "outputs": [
    {
     "data": {
      "image/png": "[encoded data removed]",
      "text/plain": [
       "<Figure size 1080x1080 with 2 Axes>"
      ]
     },
     "metadata": {
      "needs_background": "light"
     },
     "output_type": "display_data"
    }
   ],
   "source": [
    "plt.figure(figsize = (15,15))\n",
    "plt.imshow(conf_mat_resnet_svm)\n",
    "plt.colorbar()\n",
    "plt.show()"
   ]
  },
  {
   "cell_type": "code",
   "execution_count": 15,
   "id": "57851ac4",
   "metadata": {},
   "outputs": [],
   "source": [
    "np.save('data_for_svm/confusion_matrix_resnet-svm',conf_mat_resnet_svm)"
   ]
  },
  {
   "cell_type": "code",
   "execution_count": null,
   "id": "49401192",
   "metadata": {},
   "outputs": [],
   "source": []
  }
 ],
 "metadata": {
  "kernelspec": {
   "display_name": "Python 3",
   "language": "python",
   "name": "python3"
  },
  "language_info": {
   "codemirror_mode": {
    "name": "ipython",
    "version": 3
   },
   "file_extension": ".py",
   "mimetype": "text/x-python",
   "name": "python",
   "nbconvert_exporter": "python",
   "pygments_lexer": "ipython3",
   "version": "3.6.8"
  }
 },
 "nbformat": 4,
 "nbformat_minor": 5
}
