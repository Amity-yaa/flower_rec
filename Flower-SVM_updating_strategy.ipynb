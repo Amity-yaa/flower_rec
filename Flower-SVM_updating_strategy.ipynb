{
 "cells": [
  {
   "cell_type": "markdown",
   "metadata": {},
   "source": [
    "# 此代码已放弃，此idea不能有足够合理的理论支撑，也不足以用于减小服务器更新的负担，通常训练与部署是两个不同的服务器"
   ]
  },
  {
   "cell_type": "code",
   "execution_count": 1,
   "metadata": {},
   "outputs": [
    {
     "name": "stderr",
     "output_type": "stream",
     "text": [
      "Using TensorFlow backend.\n"
     ]
    }
   ],
   "source": [
    "import numpy as np\n",
    "np.random.seed(42)\n",
    "import tensorflow.compat.v1 as tf\n",
    "import keras as K\n",
    "import pandas as pd\n",
    "import os\n",
    "\n",
    "os.environ['CUDA_VISIBLE_DEVICES']='0'\n",
    "import cv2\n",
    "import matplotlib.pyplot as plt\n",
    "from sklearn.model_selection import train_test_split\n",
    "from keras.callbacks import ModelCheckpoint\n",
    "from keras import backend\n",
    "# from numba import cuda\n",
    "from keras.models import load_model\n",
    "import time \n",
    "from sklearn.svm import SVC\n",
    "%matplotlib inline "
   ]
  },
  {
   "cell_type": "code",
   "execution_count": 2,
   "metadata": {},
   "outputs": [],
   "source": [
    "# import tensorflow as tf # tf.__version__ == 2.1.0, keras.__version__ == 2.3.1\n",
    "# https://blog.csdn.net/u012388993/article/details/102573008\n",
    "# import keras.backend.tensorflow_backend as ktf\n",
    "# https://blog.csdn.net/zuoyouzouzou/article/details/104329286\n",
    "import tensorflow.compat.v1 as tf\n",
    "import tensorflow.compat.v1.keras.backend as ktf\n",
    "\n",
    "# GPU 显存自动调用\n",
    "config = tf.ConfigProto()\n",
    "config.gpu_options.allow_growth=True\n",
    "session = tf.Session(config=config)\n",
    "ktf.set_session(session)"
   ]
  },
  {
   "cell_type": "code",
   "execution_count": 3,
   "metadata": {},
   "outputs": [],
   "source": [
    "train_path = r'flowers_google'\n",
    "labels_path = \"flowers_label.csv\"\n",
    "ids_path = \"flowers_idx.csv\""
   ]
  },
  {
   "cell_type": "code",
   "execution_count": 4,
   "metadata": {},
   "outputs": [],
   "source": [
    "def PrepareAnnotation(ids_path, labels_path, train_path):\n",
    "    \n",
    "    ids = pd.read_csv(ids_path)\n",
    "    labels  = pd.read_csv(labels_path)\n",
    "    \n",
    "    annotation_dict = {}\n",
    "\n",
    "    for i in range(len(ids['id'])):\n",
    "        image_id = ids['id'][i]\n",
    "        image_lable = ids['flower_cls'][i]\n",
    "        annotation_dict[image_id] = image_lable\n",
    "    \n",
    "    label_dict = {}\n",
    "    num_classes = 0\n",
    "\n",
    "    for i in range(len(labels['flower_class'])):\n",
    "        label_dict[labels['flower_class'][i]] = labels['label'][i]\n",
    "        num_classes+=1\n",
    "        \n",
    "    for key, value in annotation_dict.items():\n",
    "        annotation_dict[key] = label_dict[value]\n",
    "    \n",
    "    image_pathes = []\n",
    "    targets = []\n",
    "    \n",
    "    for key, value in annotation_dict.items():\n",
    "        \n",
    "        image_name = str(key) + \".jpeg\"\n",
    "        image_path = os.path.join(train_path, image_name)\n",
    "        image_pathes.append(image_path)\n",
    "        targets.append(value)\n",
    "    \n",
    "    return image_pathes, targets, num_classes"
   ]
  },
  {
   "cell_type": "code",
   "execution_count": 5,
   "metadata": {},
   "outputs": [
    {
     "name": "stdout",
     "output_type": "stream",
     "text": [
      "num_train =  13172\n",
      "num_valid =  3293\n"
     ]
    }
   ],
   "source": [
    "image_pathes, targets, num_classes = PrepareAnnotation(ids_path, labels_path, train_path)\n",
    "val_ratio = 0.2\n",
    "x_train, x_val, y_train, y_val = train_test_split(image_pathes, targets, test_size=val_ratio, random_state=42, shuffle = True, stratify = targets)\n",
    "print(\"num_train = \", len(x_train))\n",
    "print(\"num_valid = \", len(x_val))"
   ]
  },
  {
   "cell_type": "code",
   "execution_count": 6,
   "metadata": {},
   "outputs": [],
   "source": [
    "batch_size = 32 # Tesla 上占用9013MB\n",
    "best_model_root = 'models/models_'+str(batch_size)\n",
    "model_root = 'models/model_ann'\n",
    "\n",
    "model_pretrained = load_model(os.path.join(best_model_root, 'Best_Model.h5'))\n",
    "for layer in model_pretrained.layers:\n",
    "    if isinstance(layer, K.layers.GlobalAveragePooling2D):\n",
    "        gap_layer =  layer\n",
    "model_pretrained = K.models.Model(model_pretrained.inputs, gap_layer.output)"
   ]
  },
  {
   "cell_type": "code",
   "execution_count": 7,
   "metadata": {},
   "outputs": [],
   "source": [
    "for layer in model_pretrained.layers:\n",
    "    if isinstance(layer, K.layers.Dense):\n",
    "        layer.trainable = True\n",
    "    else:\n",
    "        layer.trainable = False"
   ]
  },
  {
   "cell_type": "markdown",
   "metadata": {},
   "source": [
    "# SVM(default_kernel=linear, default C = 1)"
   ]
  },
  {
   "cell_type": "markdown",
   "metadata": {},
   "source": [
    "### data preparing"
   ]
  },
  {
   "cell_type": "code",
   "execution_count": 8,
   "metadata": {},
   "outputs": [],
   "source": [
    "alone_id = 100 \n",
    "x_train_np,y_train_np,x_val_np,y_val_np = map(np.array, [x_train,y_train,x_val, y_val])\n",
    "\n",
    "func_get_var_103 = lambda x, y: x[y!=alone_id]\n",
    "x_train_103 = func_get_var_103(x_train_np, y_train_np )\n",
    "y_train_103 = func_get_var_103(y_train_np, y_train_np )\n",
    "x_val_103 = func_get_var_103(x_val_np, y_val_np)\n",
    "y_val_103 = func_get_var_103(y_val_np, y_val_np)\n",
    "print(x_train_103.shape, y_train_103.shape)\n",
    "\n",
    "x_train_alone = x_train_np[y_train_np==alone_id]\n",
    "y_train_alone = y_train_np[y_train_np==alone_id]\n",
    "x_val_alone = x_val_np[y_val_np==alone_id]\n",
    "y_val_alone = y_val_np[y_val_np==alone_id]"
   ]
  },
  {
   "cell_type": "code",
   "execution_count": 12,
   "metadata": {},
   "outputs": [],
   "source": [
    "def files2features(x_train):\n",
    "    x_svm = []\n",
    "    from tqdm import tqdm\n",
    "    batch_num = int(np.ceil(len(x_train)/batch_size))\n",
    "    bar = tqdm(total = batch_num )\n",
    "    for i in range(batch_num):\n",
    "        begin_i = i*batch_size\n",
    "        end_i = (i+1)*batch_size\n",
    "        x = x_train[begin_i:end_i]\n",
    "        x_batch = []\n",
    "\n",
    "        for i in range(len(x)):\n",
    "            image = cv2.imread(x[i])\n",
    "            image = cv2.cvtColor(image, cv2.COLOR_BGR2RGB)\n",
    "            image = K.applications.resnet50.preprocess_input(image)\n",
    "            x_batch.append(image)\n",
    "\n",
    "        x_batch = np.array(x_batch)\n",
    "        x_batch = model_pretrained.predict(x_batch).reshape(x_batch.shape[0], -1)\n",
    "        x_svm.append(x_batch)\n",
    "        \n",
    "        bar.update(1)\n",
    "    x_svm = np.concatenate(x_svm,axis=0)\n",
    "    return x_svm "
   ]
  },
  {
   "cell_type": "code",
   "execution_count": 13,
   "metadata": {},
   "outputs": [
    {
     "name": "stderr",
     "output_type": "stream",
     "text": [
      "100%|████████████████████████████████████████████████████████████████████████████████| 411/411 [24:50<00:00,  3.63s/it]\n",
      "100%|████████████████████████████████████████████████████████████████████████████████| 103/103 [05:43<00:00,  3.33s/it]\n"
     ]
    }
   ],
   "source": [
    "x_train_103_svm = files2features(x_train_103)\n",
    "y_train_103 = np.array(y_train_103).ravel()\n",
    "\n",
    "x_val_103_svm = files2features(x_val_103)\n",
    "y_val_103 = np.array(y_val_103).ravel()"
   ]
  },
  {
   "cell_type": "markdown",
   "metadata": {},
   "source": [
    "## training for 103 flowers"
   ]
  },
  {
   "cell_type": "code",
   "execution_count": null,
   "metadata": {},
   "outputs": [],
   "source": [
    "svm_103 = SVC(kernel ='linear')\n",
    "svm_103.fit(x_train_103_svm,y_train_103)"
   ]
  },
  {
   "cell_type": "markdown",
   "metadata": {},
   "source": [
    "## 没有必要了其实，没办法统一，一种花进去，必定会在103种里给出一个结果，虽然可以依靠decision_function来进行修改配合alone的svm"
   ]
  },
  {
   "cell_type": "code",
   "execution_count": null,
   "metadata": {},
   "outputs": [],
   "source": [
    "time_begin = time.time()\n",
    "\n",
    "x_train_alone_svm = files2features(x_train_alone)\n",
    "y_train_alone  = np.array(y_train_alone).ravel()\n",
    "\n",
    "x_val_alone_svm = files2features(x_val_alone)\n",
    "y_val_alone = np.array(y_val_alone).ravel()\n",
    "\n",
    "time_end = time.time()"
   ]
  },
  {
   "cell_type": "code",
   "execution_count": null,
   "metadata": {},
   "outputs": [],
   "source": [
    "svm = SVC(kernel = 'linear')\n",
    "\n",
    "svm.fit(x_svm_103,y_train_103)\n",
    "time_end = time.time()\n",
    "\n",
    "print('time used is', (time_end-time_begin)/60)"
   ]
  },
  {
   "cell_type": "code",
   "execution_count": null,
   "metadata": {},
   "outputs": [],
   "source": [
    "x_svm_val = [] \n",
    "for i in range(int(np.ceil(len(x_val)/batch_size))):\n",
    "    begin_i = i*batch_size\n",
    "    end_i = (i+1)*batch_size\n",
    "    x = x_val[begin_i:end_i]\n",
    "    x_batch = []\n",
    "\n",
    "    for i in range(len(x)):\n",
    "        image = cv2.imread(x[i])\n",
    "        image = cv2.cvtColor(image, cv2.COLOR_BGR2RGB)\n",
    "        image = K.applications.resnet50.preprocess_input(image)\n",
    "        x_batch.append(image)\n",
    "\n",
    "    x_batch = np.array(x_batch)\n",
    "    x_batch = model_pretrained.predict(x_batch)\n",
    "    x_svm_val.append(x_batch)\n",
    "x_svm_val = np.concatenate(x_svm_val, axis=0)\n",
    "y_val = np.array(y_val).reshape(-1,1)\n",
    "test_acc = svm.score(x_svm_val, y_val)"
   ]
  },
  {
   "cell_type": "code",
   "execution_count": null,
   "metadata": {},
   "outputs": [],
   "source": [
    "test_acc"
   ]
  },
  {
   "cell_type": "code",
   "execution_count": null,
   "metadata": {},
   "outputs": [],
   "source": [
    "import joblib \n",
    "\n",
    "# test_acc = '0.8757971454600668'\n",
    "svm_root = 'models/svm/'\n",
    "if not os.path.exists(svm_root):\n",
    "    os.makedirs(svm_root)\n",
    "svm_path = os.path.join(svm_root, '2021-10-02_{}_linear.svm'.format(test_acc))\n",
    "joblib.dump(svm, svm_path)"
   ]
  },
  {
   "cell_type": "code",
   "execution_count": 11,
   "metadata": {},
   "outputs": [
    {
     "name": "stderr",
     "output_type": "stream",
     "text": [
      "d:\\other_all\\application\\python\\lib\\site-packages\\sklearn\\utils\\validation.py:761: DataConversionWarning: A column-vector y was passed when a 1d array was expected. Please change the shape of y to (n_samples, ), for example using ravel().\n",
      "  y = column_or_1d(y, warn=True)\n"
     ]
    }
   ],
   "source": [
    "svm_08 = SVC(C=0.8, kernel='linear', degree = 1).fit(x_svm,y_train)\n",
    "test_acc = svm_08.score(x_svm_val, y_val)"
   ]
  },
  {
   "cell_type": "code",
   "execution_count": 12,
   "metadata": {},
   "outputs": [
    {
     "data": {
      "text/plain": [
       "0.889766170665047"
      ]
     },
     "execution_count": 12,
     "metadata": {},
     "output_type": "execute_result"
    }
   ],
   "source": [
    "test_acc"
   ]
  },
  {
   "cell_type": "code",
   "execution_count": 13,
   "metadata": {},
   "outputs": [
    {
     "name": "stderr",
     "output_type": "stream",
     "text": [
      "d:\\other_all\\application\\python\\lib\\site-packages\\sklearn\\utils\\validation.py:761: DataConversionWarning: A column-vector y was passed when a 1d array was expected. Please change the shape of y to (n_samples, ), for example using ravel().\n",
      "  y = column_or_1d(y, warn=True)\n"
     ]
    },
    {
     "data": {
      "text/plain": [
       "0.889766170665047"
      ]
     },
     "execution_count": 13,
     "metadata": {},
     "output_type": "execute_result"
    }
   ],
   "source": [
    "svm_08 = SVC(C=0.9, kernel='linear', degree = 1).fit(x_svm,y_train)\n",
    "test_acc = svm_08.score(x_svm_val, y_val)\n",
    "test_acc"
   ]
  },
  {
   "cell_type": "code",
   "execution_count": 14,
   "metadata": {},
   "outputs": [
    {
     "name": "stderr",
     "output_type": "stream",
     "text": [
      "d:\\other_all\\application\\python\\lib\\site-packages\\sklearn\\utils\\validation.py:761: DataConversionWarning: A column-vector y was passed when a 1d array was expected. Please change the shape of y to (n_samples, ), for example using ravel().\n",
      "  y = column_or_1d(y, warn=True)\n"
     ]
    },
    {
     "data": {
      "text/plain": [
       "0.889766170665047"
      ]
     },
     "execution_count": 14,
     "metadata": {},
     "output_type": "execute_result"
    }
   ],
   "source": [
    "svm_08 = SVC(C=1, kernel='linear', degree = 1).fit(x_svm,y_train)\n",
    "test_acc = svm_08.score(x_svm_val, y_val)\n",
    "test_acc"
   ]
  },
  {
   "cell_type": "code",
   "execution_count": 15,
   "metadata": {},
   "outputs": [
    {
     "name": "stderr",
     "output_type": "stream",
     "text": [
      "d:\\other_all\\application\\python\\lib\\site-packages\\sklearn\\utils\\validation.py:761: DataConversionWarning: A column-vector y was passed when a 1d array was expected. Please change the shape of y to (n_samples, ), for example using ravel().\n",
      "  y = column_or_1d(y, warn=True)\n"
     ]
    },
    {
     "data": {
      "text/plain": [
       "0.889766170665047"
      ]
     },
     "execution_count": 15,
     "metadata": {},
     "output_type": "execute_result"
    }
   ],
   "source": [
    "svm_08 = SVC(C=1.2, kernel='linear', degree = 1).fit(x_svm,y_train)\n",
    "test_acc = svm_08.score(x_svm_val, y_val)\n",
    "test_acc"
   ]
  },
  {
   "cell_type": "code",
   "execution_count": 16,
   "metadata": {},
   "outputs": [
    {
     "name": "stderr",
     "output_type": "stream",
     "text": [
      "d:\\other_all\\application\\python\\lib\\site-packages\\sklearn\\utils\\validation.py:761: DataConversionWarning: A column-vector y was passed when a 1d array was expected. Please change the shape of y to (n_samples, ), for example using ravel().\n",
      "  y = column_or_1d(y, warn=True)\n"
     ]
    },
    {
     "data": {
      "text/plain": [
       "0.889766170665047"
      ]
     },
     "execution_count": 16,
     "metadata": {},
     "output_type": "execute_result"
    }
   ],
   "source": [
    "svm_08 = SVC(C=2, kernel='linear', degree = 1).fit(x_svm,y_train)\n",
    "test_acc = svm_08.score(x_svm_val, y_val)\n",
    "test_acc"
   ]
  },
  {
   "cell_type": "code",
   "execution_count": 18,
   "metadata": {},
   "outputs": [
    {
     "name": "stderr",
     "output_type": "stream",
     "text": [
      "d:\\other_all\\application\\python\\lib\\site-packages\\sklearn\\utils\\validation.py:761: DataConversionWarning: A column-vector y was passed when a 1d array was expected. Please change the shape of y to (n_samples, ), for example using ravel().\n",
      "  y = column_or_1d(y, warn=True)\n"
     ]
    },
    {
     "name": "stdout",
     "output_type": "stream",
     "text": [
      "0.889766170665047 3.9204971114794414\n"
     ]
    }
   ],
   "source": [
    "time_begin = time.time()\n",
    "svm_08 = SVC(C=1, kernel='linear', degree = 1).fit(x_svm,y_train)\n",
    "test_acc = svm_08.score(x_svm_val, y_val)\n",
    "time_end = time.time()\n",
    "print(test_acc,  (time_end-time_begin)/60)"
   ]
  },
  {
   "cell_type": "code",
   "execution_count": null,
   "metadata": {},
   "outputs": [],
   "source": []
  }
 ],
 "metadata": {
  "kernelspec": {
   "display_name": "Python 3",
   "language": "python",
   "name": "python3"
  },
  "language_info": {
   "codemirror_mode": {
    "name": "ipython",
    "version": 3
   },
   "file_extension": ".py",
   "mimetype": "text/x-python",
   "name": "python",
   "nbconvert_exporter": "python",
   "pygments_lexer": "ipython3",
   "version": "3.6.7"
  }
 },
 "nbformat": 4,
 "nbformat_minor": 2
}
